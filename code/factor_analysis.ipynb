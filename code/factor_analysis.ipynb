{
 "cells": [
  {
   "cell_type": "markdown",
   "metadata": {},
   "source": [
    "## 因子分析"
   ]
  },
  {
   "cell_type": "markdown",
   "metadata": {},
   "source": [
    "### 导入包"
   ]
  },
  {
   "cell_type": "code",
   "execution_count": 12,
   "metadata": {},
   "outputs": [],
   "source": [
    "import os\n",
    "import pandas as pd\n",
    "import numpy as np\n",
    "import alphalens as al\n",
    "import seaborn as sns\n",
    "import matplotlib.pyplot as plt\n",
    "\n",
    "from sklearn.feature_selection import f_regression\n",
    "from sklearn.feature_selection import SelectKBest"
   ]
  },
  {
   "cell_type": "markdown",
   "metadata": {},
   "source": [
    "### 导入数据及数据预处理"
   ]
  },
  {
   "cell_type": "code",
   "execution_count": 8,
   "metadata": {},
   "outputs": [
    {
     "data": {
      "text/html": [
       "<div>\n",
       "<style scoped>\n",
       "    .dataframe tbody tr th:only-of-type {\n",
       "        vertical-align: middle;\n",
       "    }\n",
       "\n",
       "    .dataframe tbody tr th {\n",
       "        vertical-align: top;\n",
       "    }\n",
       "\n",
       "    .dataframe thead th {\n",
       "        text-align: right;\n",
       "    }\n",
       "</style>\n",
       "<table border=\"1\" class=\"dataframe\">\n",
       "  <thead>\n",
       "    <tr style=\"text-align: right;\">\n",
       "      <th></th>\n",
       "      <th>S_INFO_WINDCODE</th>\n",
       "      <th>TRADE_DT</th>\n",
       "      <th>S_VAL_PE</th>\n",
       "      <th>S_VAL_PB_NEW</th>\n",
       "      <th>S_VAL_PS</th>\n",
       "      <th>S_DQ_TURN</th>\n",
       "      <th>S_DQ_MV</th>\n",
       "      <th>NET_ASSETS_TODAY</th>\n",
       "    </tr>\n",
       "  </thead>\n",
       "  <tbody>\n",
       "    <tr>\n",
       "      <th>460</th>\n",
       "      <td>603993.SH</td>\n",
       "      <td>20170103</td>\n",
       "      <td>0.762635</td>\n",
       "      <td>-0.056487</td>\n",
       "      <td>1.952345</td>\n",
       "      <td>-0.923542</td>\n",
       "      <td>-0.001855</td>\n",
       "      <td>-0.380103</td>\n",
       "    </tr>\n",
       "    <tr>\n",
       "      <th>461</th>\n",
       "      <td>601216.SH</td>\n",
       "      <td>20170103</td>\n",
       "      <td>-0.091148</td>\n",
       "      <td>-0.271236</td>\n",
       "      <td>0.684044</td>\n",
       "      <td>-0.769635</td>\n",
       "      <td>-0.318239</td>\n",
       "      <td>-0.545868</td>\n",
       "    </tr>\n",
       "    <tr>\n",
       "      <th>462</th>\n",
       "      <td>600760.SH</td>\n",
       "      <td>20170103</td>\n",
       "      <td>0.667835</td>\n",
       "      <td>2.267898</td>\n",
       "      <td>-0.186259</td>\n",
       "      <td>-1.087732</td>\n",
       "      <td>-0.917858</td>\n",
       "      <td>-0.991170</td>\n",
       "    </tr>\n",
       "    <tr>\n",
       "      <th>463</th>\n",
       "      <td>600426.SH</td>\n",
       "      <td>20170103</td>\n",
       "      <td>-0.747287</td>\n",
       "      <td>-0.606472</td>\n",
       "      <td>-0.662188</td>\n",
       "      <td>0.606930</td>\n",
       "      <td>-0.704956</td>\n",
       "      <td>-0.726910</td>\n",
       "    </tr>\n",
       "    <tr>\n",
       "      <th>464</th>\n",
       "      <td>600036.SH</td>\n",
       "      <td>20170103</td>\n",
       "      <td>-0.995967</td>\n",
       "      <td>-0.977105</td>\n",
       "      <td>-0.593821</td>\n",
       "      <td>-0.927250</td>\n",
       "      <td>1.997046</td>\n",
       "      <td>1.746359</td>\n",
       "    </tr>\n",
       "  </tbody>\n",
       "</table>\n",
       "</div>"
      ],
      "text/plain": [
       "    S_INFO_WINDCODE  TRADE_DT  S_VAL_PE  S_VAL_PB_NEW  S_VAL_PS  S_DQ_TURN  \\\n",
       "460       603993.SH  20170103  0.762635     -0.056487  1.952345  -0.923542   \n",
       "461       601216.SH  20170103 -0.091148     -0.271236  0.684044  -0.769635   \n",
       "462       600760.SH  20170103  0.667835      2.267898 -0.186259  -1.087732   \n",
       "463       600426.SH  20170103 -0.747287     -0.606472 -0.662188   0.606930   \n",
       "464       600036.SH  20170103 -0.995967     -0.977105 -0.593821  -0.927250   \n",
       "\n",
       "      S_DQ_MV  NET_ASSETS_TODAY  \n",
       "460 -0.001855         -0.380103  \n",
       "461 -0.318239         -0.545868  \n",
       "462 -0.917858         -0.991170  \n",
       "463 -0.704956         -0.726910  \n",
       "464  1.997046          1.746359  "
      ]
     },
     "execution_count": 8,
     "metadata": {},
     "output_type": "execute_result"
    }
   ],
   "source": [
    "path = '/Users/ryan/Documents/GitHub/GDHF-Quant-Investment/data/data_cleaned'\n",
    "file_name = 'value_factor_cleaned.gz'\n",
    "input_file = os.path.join(path, file_name)\n",
    "df_factor = pd.read_csv(input_file)\n",
    "\n",
    "df_factor.dropna(inplace=True)      # 删除非交易日数据\n",
    "df_factor.head()"
   ]
  },
  {
   "cell_type": "code",
   "execution_count": 3,
   "metadata": {},
   "outputs": [
    {
     "data": {
      "text/html": [
       "<div>\n",
       "<style scoped>\n",
       "    .dataframe tbody tr th:only-of-type {\n",
       "        vertical-align: middle;\n",
       "    }\n",
       "\n",
       "    .dataframe tbody tr th {\n",
       "        vertical-align: top;\n",
       "    }\n",
       "\n",
       "    .dataframe thead th {\n",
       "        text-align: right;\n",
       "    }\n",
       "</style>\n",
       "<table border=\"1\" class=\"dataframe\">\n",
       "  <thead>\n",
       "    <tr style=\"text-align: right;\">\n",
       "      <th></th>\n",
       "      <th>S_INFO_WINDCODE</th>\n",
       "      <th>TRADE_DT</th>\n",
       "      <th>S_DQ_PRECLOSE</th>\n",
       "      <th>S_DQ_OPEN</th>\n",
       "      <th>S_DQ_HIGH</th>\n",
       "      <th>S_DQ_LOW</th>\n",
       "      <th>S_DQ_CLOSE</th>\n",
       "      <th>S_DQ_VOLUME</th>\n",
       "      <th>S_DQ_AVGPRICE</th>\n",
       "    </tr>\n",
       "  </thead>\n",
       "  <tbody>\n",
       "    <tr>\n",
       "      <th>0</th>\n",
       "      <td>000001.SZ</td>\n",
       "      <td>20170906</td>\n",
       "      <td>11.64</td>\n",
       "      <td>11.59</td>\n",
       "      <td>11.88</td>\n",
       "      <td>11.48</td>\n",
       "      <td>11.70</td>\n",
       "      <td>791621.55</td>\n",
       "      <td>11.6914</td>\n",
       "    </tr>\n",
       "    <tr>\n",
       "      <th>1</th>\n",
       "      <td>000002.SZ</td>\n",
       "      <td>20170906</td>\n",
       "      <td>23.76</td>\n",
       "      <td>23.79</td>\n",
       "      <td>24.27</td>\n",
       "      <td>23.50</td>\n",
       "      <td>23.80</td>\n",
       "      <td>361719.63</td>\n",
       "      <td>23.9400</td>\n",
       "    </tr>\n",
       "    <tr>\n",
       "      <th>2</th>\n",
       "      <td>000063.SZ</td>\n",
       "      <td>20170906</td>\n",
       "      <td>24.36</td>\n",
       "      <td>24.28</td>\n",
       "      <td>24.99</td>\n",
       "      <td>24.19</td>\n",
       "      <td>24.95</td>\n",
       "      <td>708125.33</td>\n",
       "      <td>24.7464</td>\n",
       "    </tr>\n",
       "    <tr>\n",
       "      <th>3</th>\n",
       "      <td>000066.SZ</td>\n",
       "      <td>20170906</td>\n",
       "      <td>8.81</td>\n",
       "      <td>8.80</td>\n",
       "      <td>8.85</td>\n",
       "      <td>8.71</td>\n",
       "      <td>8.81</td>\n",
       "      <td>240351.11</td>\n",
       "      <td>8.7852</td>\n",
       "    </tr>\n",
       "    <tr>\n",
       "      <th>4</th>\n",
       "      <td>000069.SZ</td>\n",
       "      <td>20170906</td>\n",
       "      <td>8.75</td>\n",
       "      <td>8.74</td>\n",
       "      <td>8.78</td>\n",
       "      <td>8.68</td>\n",
       "      <td>8.72</td>\n",
       "      <td>216449.20</td>\n",
       "      <td>8.7395</td>\n",
       "    </tr>\n",
       "  </tbody>\n",
       "</table>\n",
       "</div>"
      ],
      "text/plain": [
       "  S_INFO_WINDCODE  TRADE_DT  S_DQ_PRECLOSE  S_DQ_OPEN  S_DQ_HIGH  S_DQ_LOW  \\\n",
       "0       000001.SZ  20170906          11.64      11.59      11.88     11.48   \n",
       "1       000002.SZ  20170906          23.76      23.79      24.27     23.50   \n",
       "2       000063.SZ  20170906          24.36      24.28      24.99     24.19   \n",
       "3       000066.SZ  20170906           8.81       8.80       8.85      8.71   \n",
       "4       000069.SZ  20170906           8.75       8.74       8.78      8.68   \n",
       "\n",
       "   S_DQ_CLOSE  S_DQ_VOLUME  S_DQ_AVGPRICE  \n",
       "0       11.70    791621.55        11.6914  \n",
       "1       23.80    361719.63        23.9400  \n",
       "2       24.95    708125.33        24.7464  \n",
       "3        8.81    240351.11         8.7852  \n",
       "4        8.72    216449.20         8.7395  "
      ]
     },
     "execution_count": 3,
     "metadata": {},
     "output_type": "execute_result"
    }
   ],
   "source": [
    "path = '/Users/ryan/Documents/GitHub/GDHF-Quant-Investment/data'\n",
    "file_name = 'eod_price.gz'\n",
    "input_file = os.path.join(path, file_name)\n",
    "df_stock = pd.read_csv(input_file)\n",
    "df_stock.head()"
   ]
  },
  {
   "cell_type": "markdown",
   "metadata": {},
   "source": [
    "### 特征选择\n",
    "1. 画出特征的相关系数热力图\n",
    "2. 使用选择器筛选特征"
   ]
  },
  {
   "cell_type": "code",
   "execution_count": 25,
   "metadata": {},
   "outputs": [],
   "source": [
    "# 相关系数热力图函数\n",
    "def heatmap(df):\n",
    "    df_corr = df.corr()\n",
    "    sns.heatmap(df_corr, vmin=0, vmax=1, annot=True, square=True, cmap='Oranges')\n",
    "    plt.show()"
   ]
  },
  {
   "cell_type": "code",
   "execution_count": 26,
   "metadata": {},
   "outputs": [
    {
     "data": {
      "image/png": "[encoded data removed]",
      "text/plain": [
       "<Figure size 432x288 with 2 Axes>"
      ]
     },
     "metadata": {
      "needs_background": "light"
     },
     "output_type": "display_data"
    },
    {
     "data": {
      "image/png": "[encoded data removed]",
      "text/plain": [
       "<Figure size 432x288 with 2 Axes>"
      ]
     },
     "metadata": {
      "needs_background": "light"
     },
     "output_type": "display_data"
    }
   ],
   "source": [
    "# 单只股票\n",
    "heatmap(df=df_factor[['S_VAL_PE', 'S_VAL_PB_NEW', 'S_VAL_PS', 'S_DQ_TURN',\t'S_DQ_MV',\t'NET_ASSETS_TODAY']][df_factor['S_INFO_WINDCODE']=='603993.SH'])\n",
    "# 全A股\n",
    "heatmap(df=df_factor[['S_VAL_PE', 'S_VAL_PB_NEW', 'S_VAL_PS', 'S_DQ_TURN',\t'S_DQ_MV',\t'NET_ASSETS_TODAY']])"
   ]
  },
  {
   "cell_type": "code",
   "execution_count": 28,
   "metadata": {},
   "outputs": [
    {
     "data": {
      "text/plain": [
       "Index(['S_VAL_PE', 'S_VAL_PB_NEW', 'S_VAL_PS', 'NET_ASSETS_TODAY'], dtype='object')"
      ]
     },
     "execution_count": 28,
     "metadata": {},
     "output_type": "execute_result"
    }
   ],
   "source": [
    "# 使用SelectKBest选择器进行特征筛选\n",
    "data = pd.merge(df_stock[['S_INFO_WINDCODE', 'TRADE_DT', 'S_DQ_CLOSE']], df_factor, on=['S_INFO_WINDCODE', 'TRADE_DT'], how='left')\n",
    "\n",
    "select = SelectKBest(\n",
    "    f_regression,\n",
    "    k=4\n",
    ")\n",
    "\n",
    "feature = data[['S_VAL_PE', 'S_VAL_PB_NEW', 'S_VAL_PS', 'S_DQ_TURN', 'S_DQ_MV',\t'NET_ASSETS_TODAY']]\n",
    "\n",
    "selectFeature = select.fit_transform(\n",
    "    feature,\n",
    "    data['S_DQ_CLOSE']\n",
    ")\n",
    "\n",
    "feature.columns[select.get_support()]"
   ]
  },
  {
   "cell_type": "markdown",
   "metadata": {},
   "source": [
    "- 存在的问题\n",
    "在相关系数热力图中，呈现较高相关性的因子仍然在选择器中被筛选出来"
   ]
  }
 ],
 "metadata": {
  "kernelspec": {
   "display_name": "Python 3.9.2 64-bit",
   "language": "python",
   "name": "python3"
  },
  "language_info": {
   "codemirror_mode": {
    "name": "ipython",
    "version": 3
   },
   "file_extension": ".py",
   "mimetype": "text/x-python",
   "name": "python",
   "nbconvert_exporter": "python",
   "pygments_lexer": "ipython3",
   "version": "3.9.2"
  },
  "orig_nbformat": 4,
  "vscode": {
   "interpreter": {
    "hash": "aee8b7b246df8f9039afb4144a1f6fd8d2ca17a180786b69acc140d282b71a49"
   }
  }
 },
 "nbformat": 4,
 "nbformat_minor": 2
}
